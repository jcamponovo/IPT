{
 "cells": [
  {
   "cell_type": "markdown",
   "id": "07fb8689",
   "metadata": {},
   "source": [
    "# Correction concours blanc"
   ]
  },
  {
   "cell_type": "markdown",
   "id": "d69daff1",
   "metadata": {},
   "source": [
    "### Partie 1 - Tri"
   ]
  },
  {
   "cell_type": "code",
   "execution_count": 1,
   "id": "d9557f76",
   "metadata": {},
   "outputs": [],
   "source": [
    "# Q.11\n",
    "def initPile():\n",
    "    return []\n",
    "\n",
    "def estVide(p):\n",
    "    return p == []\n",
    "\n",
    "def empiler(p,element):\n",
    "    p.append(element)\n",
    "    return\n",
    "\n",
    "def depiler(p):\n",
    "    assert not estVide(p), \"La pile doit être non vide\"\n",
    "    return p.pop()\n",
    "\n",
    "def dernier(p):\n",
    "    assert not estVide(p), \"La pile doit être non vide\"\n",
    "    return p[-1]"
   ]
  },
  {
   "cell_type": "code",
   "execution_count": 2,
   "id": "cff21b20",
   "metadata": {},
   "outputs": [
    {
     "data": {
      "text/plain": [
       "[(0, 3), (4, 5), (6, 8), (9, 10), (11, 11)]"
      ]
     },
     "execution_count": 2,
     "metadata": {},
     "output_type": "execute_result"
    }
   ],
   "source": [
    "# Q.12\n",
    "def scm(s):\n",
    "    d = 0\n",
    "    reponse = []\n",
    "    for i in range(len(s)-1):\n",
    "        if s[i+1] < s[i]:\n",
    "            reponse.append((d,i))\n",
    "            d = i+1\n",
    "    reponse.append((d,len(s)-1)) # len(s)-1 est obligatoirement une fin, et n'a jamais été ajouté comme telle dans la boucle\n",
    "    return reponse\n",
    "\n",
    "scm([3, 4, 8, 11, 1, 5, 2, 7, 9, 0, 10, 0]) # exemple du sujet"
   ]
  },
  {
   "cell_type": "code",
   "execution_count": 3,
   "id": "853c7fcc",
   "metadata": {},
   "outputs": [
    {
     "name": "stdout",
     "output_type": "stream",
     "text": [
      "[3, 4, 8, 11, 1, 5, 2, 7, 9, 0, 10, 0]\n",
      "[1, 3, 4, 5, 8, 11, 2, 7, 9, 0, 10, 0]\n",
      "\n",
      "[3, 4, 8, 11, 1, 5, 2, 7, 9, 0, 10, 0]\n",
      "[1, 3, 4, 5, 8, 11, 2, 7, 9, 0, 10, 0]\n"
     ]
    }
   ],
   "source": [
    "# Q.13\n",
    "def copier(s, debut, fin): # on considère cette fonction donnée, pas besoin de l'écrire\n",
    "    return s[debut:fin+1]\n",
    "\n",
    "def fusionner(s, r1, r2):\n",
    "    s1 = copier(s, r1[0], r1[1]) # vous pouvez utiliser deux fois cette syntaxe\n",
    "    s2 = copier(s, *r2) # autre syntaxe pour faire passer les valeurs de r2 comme arguments séparés de copier\n",
    "    for i in range(r1[0],r2[1]+1):\n",
    "        if s1 != []:\n",
    "            if s2 != []:\n",
    "                if s1[0] < s2[0]: # s1 et s2 non vides, le premier élément de s1 est le plus petit\n",
    "                    s[i] = s1.pop(0)\n",
    "                else: # s1 et s2 non vides, le premier élément de s2 est le plus petit\n",
    "                    s[i] = s2.pop(0)\n",
    "            else: # s2 est vide et s1 est non vide\n",
    "                s[i] = s1.pop(0)\n",
    "        else: # s1 est vide et s2 est non vide\n",
    "            s[i] = s2.pop(0)    \n",
    "                    \n",
    "    return # on demande une procedure donc une modification de s sans rien renvoyer\n",
    "\n",
    "def fusionner2(s, r1,r2):\n",
    "    s1 = copier(s, r1[0], r1[1]) # vous pouvez utiliser deux fois cette syntaxe\n",
    "    s2 = copier(s, *r2) # autre syntaxe pour faire passer les valeurs de r2 comme arguments séparés de copier\n",
    "    for i in range(r1[0],r2[1]+1):\n",
    "        s[i] = s1.pop(0) if s1!=[] and (s2 == [] or s1[0] < s2[0]) else s2.pop(0) # la même chose avec une syntaxe plus spécifique à python \n",
    "    return # on demande une procedure donc une modification de s sans rien renvoyer\n",
    "\n",
    "s = [3, 4, 8, 11, 1, 5, 2, 7, 9, 0, 10, 0]\n",
    "print(s)\n",
    "fusionner(s, (0,3),(4,5))\n",
    "print(s)\n",
    "print()\n",
    "s = [3, 4, 8, 11, 1, 5, 2, 7, 9, 0, 10, 0]\n",
    "print(s)\n",
    "fusionner2(s, (0,3),(4,5))\n",
    "print(s)"
   ]
  },
  {
   "cell_type": "code",
   "execution_count": 4,
   "id": "3f2da238",
   "metadata": {},
   "outputs": [
    {
     "name": "stdout",
     "output_type": "stream",
     "text": [
      "Etat initial puis 4 appels à depileFusionneRemplace\n",
      "[3, 4, 8, 11, 1, 5, 2, 7, 9, 0, 10, 0]\n",
      "[(0, 3), (4, 5), (6, 8), (9, 10), (11, 11)]\n",
      "\n",
      "[3, 4, 8, 11, 1, 5, 2, 7, 9, 0, 0, 10]\n",
      "[(0, 3), (4, 5), (6, 8), (9, 11)]\n",
      "\n",
      "[3, 4, 8, 11, 1, 5, 0, 0, 2, 7, 9, 10]\n",
      "[(0, 3), (4, 5), (6, 11)]\n",
      "\n",
      "[3, 4, 8, 11, 0, 0, 1, 2, 5, 7, 9, 10]\n",
      "[(0, 3), (4, 11)]\n",
      "\n",
      "[0, 0, 1, 2, 3, 4, 5, 7, 8, 9, 10, 11]\n",
      "[(0, 11)]\n"
     ]
    }
   ],
   "source": [
    "# Q.14\n",
    "def depileFusionneRemplace(s, pile):\n",
    "    r2 = depiler(pile)\n",
    "    r1 = depiler(pile)\n",
    "    fusionner(s, r1, r2)\n",
    "    empiler(pile,(r1[0], r2[1]))\n",
    "    return # c'est une procedure, elle ne renvoie rien\n",
    "\n",
    "print(\"Etat initial puis 4 appels à depileFusionneRemplace\")\n",
    "s = [3, 4, 8, 11, 1, 5, 2, 7, 9, 0, 10, 0]\n",
    "print(s)\n",
    "p = scm([3, 4, 8, 11, 1, 5, 2, 7, 9, 0, 10, 0])\n",
    "print(p)\n",
    "depileFusionneRemplace(s, p)\n",
    "print()\n",
    "print(s)\n",
    "print(p)\n",
    "depileFusionneRemplace(s, p)\n",
    "print()\n",
    "print(s)\n",
    "print(p)\n",
    "depileFusionneRemplace(s, p)\n",
    "print()\n",
    "print(s)\n",
    "print(p)\n",
    "depileFusionneRemplace(s, p)\n",
    "print()\n",
    "print(s)\n",
    "print(p)"
   ]
  },
  {
   "cell_type": "code",
   "execution_count": 5,
   "id": "0708c66e",
   "metadata": {},
   "outputs": [
    {
     "name": "stdout",
     "output_type": "stream",
     "text": [
      "** Découpage des scm **\n",
      "liste à trier: [3, 4, 8, 11, 1, 5, 2, 7, 9, 0, 10, 0]\n",
      "liste des scm: [(0, 3), (4, 5), (6, 8), (9, 10), (11, 11)]\n",
      "** Première phase **\n",
      "Etat de la pile: [(0, 3)]\n",
      "Etat de la pile: [(0, 3), (4, 5)]\n",
      "Etat de la pile: [(0, 3), (4, 5), (6, 8)]\n",
      "fusion des scm: (4, 5) et (6, 8). Etat de la liste: [3, 4, 8, 11, 1, 2, 5, 7, 9, 0, 10, 0]\n",
      "Etat de la pile: [(0, 3), (4, 8)]\n",
      "fusion des scm: (0, 3) et (4, 8). Etat de la liste: [1, 2, 3, 4, 5, 7, 8, 9, 11, 0, 10, 0]\n",
      "Etat de la pile: [(0, 8)]\n",
      "Etat de la pile: [(0, 8), (9, 10)]\n",
      "Etat de la pile: [(0, 8), (9, 10), (11, 11)]\n",
      "** Deuxième phase **\n",
      "fusion des scm: (9, 10) et (11, 11). Etat de la liste: [1, 2, 3, 4, 5, 7, 8, 9, 11, 0, 0, 10]\n",
      "Etat de la pile: [(0, 8), (9, 11)]\n",
      "fusion des scm: (0, 8) et (9, 11). Etat de la liste: [0, 0, 1, 2, 3, 4, 5, 7, 8, 9, 10, 11]\n",
      "Etat de la pile: [(0, 11)]\n",
      "La liste triée: [0, 0, 1, 2, 3, 4, 5, 7, 8, 9, 10, 11]\n"
     ]
    }
   ],
   "source": [
    "def alphaTri(s):\n",
    "    print(\"** Découpage des scm **\")\n",
    "    print(\"liste à trier:\",s)\n",
    "    l = scm(s)\n",
    "    print(\"liste des scm:\",l)\n",
    "    \n",
    "    print(\"** Première phase **\")\n",
    "    p = initPile()\n",
    "    r1 = None\n",
    "    for r2 in l:\n",
    "        empiler(p, r2)\n",
    "        print(\"Etat de la pile:\",p)\n",
    "        while r1 is not None and (r1[1]-r1[0]+1) < 2 * (r2[1] - r2[0] + 1):\n",
    "            depileFusionneRemplace(s,p)\n",
    "            print(\"fusion des scm: {} et {}. Etat de la liste: {}\".format(r1,r2,s))\n",
    "            print(\"Etat de la pile:\",p)\n",
    "            r2 = depiler(p)\n",
    "            if not estVide(p):\n",
    "                r1 = dernier(p)\n",
    "            else:\n",
    "                r1 = None\n",
    "            empiler(p, r2)\n",
    "        r1 = r2\n",
    "    \n",
    "    print(\"** Deuxième phase **\")\n",
    "    r2 = depiler(p)\n",
    "    while not estVide(p):\n",
    "        r1 = dernier(p)\n",
    "        empiler(p,r2)\n",
    "        depileFusionneRemplace(s,p)\n",
    "        print(\"fusion des scm: {} et {}. Etat de la liste: {}\".format(r1,r2,s))\n",
    "        print(\"Etat de la pile:\",p)\n",
    "        r2 = depiler(p)\n",
    "        \n",
    "    print(\"La liste triée:\",s)\n",
    "    return\n",
    "        \n",
    "        \n",
    "s = [3, 4, 8, 11, 1, 5, 2, 7, 9, 0, 10, 0]\n",
    "alphaTri(s)    "
   ]
  },
  {
   "cell_type": "markdown",
   "id": "823f4c56",
   "metadata": {},
   "source": [
    "### Partie 2 - Graphes"
   ]
  },
  {
   "cell_type": "code",
   "execution_count": 6,
   "id": "2abcc0fc",
   "metadata": {},
   "outputs": [
    {
     "name": "stdout",
     "output_type": "stream",
     "text": [
      "[1, 2, 3, 17, 19, 36, 7, 25, 100]\n"
     ]
    }
   ],
   "source": [
    "# II.A.1\n",
    "l = [1,2,3,17,19,36,7,25,100]\n",
    "print(l)"
   ]
  },
  {
   "cell_type": "code",
   "execution_count": 7,
   "id": "5dd9cc5f",
   "metadata": {},
   "outputs": [
    {
     "name": "stdout",
     "output_type": "stream",
     "text": [
      "    4\n",
      "   /  \\\n",
      "  5    7\n",
      " / \\  /  \\\n",
      "9  8 6  10\n"
     ]
    }
   ],
   "source": [
    "# II.A.2\n",
    "print(\"    4\")\n",
    "print(\"   /  \\\\\")\n",
    "print(\"  5    7\")\n",
    "print(\" / \\\\  /  \\\\\")\n",
    "print(\"9  8 6  10\")"
   ]
  },
  {
   "cell_type": "code",
   "execution_count": 8,
   "id": "848b3d50",
   "metadata": {},
   "outputs": [],
   "source": [
    "# Ce n'est pas un tas binaire car 6 < 7"
   ]
  },
  {
   "cell_type": "code",
   "execution_count": 9,
   "id": "50d54e15",
   "metadata": {},
   "outputs": [
    {
     "name": "stdout",
     "output_type": "stream",
     "text": [
      "Exemple de l'ajout du noeud 14 au tas représenté au debut\n",
      "\n",
      "Etat initial du tas [1, 2, 3, 17, 19, 36, 7, 25, 100]\n",
      "ajout de l'élément 14 à la fin\n",
      "Etat du tas [1, 2, 3, 17, 19, 36, 7, 25, 100, 14]\n",
      "comparaison de 14 avec son parent 19\n",
      "inversion du noeud et de son parent\n",
      "Etat du tas [1, 2, 3, 17, 14, 36, 7, 25, 100, 19]\n",
      "comparaison de 14 avec son parent 2\n",
      "Noeud bien placé, fin de la procédure\n",
      "Etat final du tas [1, 2, 3, 17, 14, 36, 7, 25, 100, 19]\n"
     ]
    }
   ],
   "source": [
    "# II.A.3 et II.A.4\n",
    "def ajouter(tas,element):\n",
    "    tas.append(element)\n",
    "    print(\"ajout de l'élément {} à la fin\".format(element))\n",
    "    print(\"Etat du tas\",tas)\n",
    "    i = len(tas) - 1\n",
    "    p = (i-1)//2\n",
    "    while p >= 0:\n",
    "        print(\"comparaison de {} avec son parent {}\".format(tas[i],tas[p]))\n",
    "        if tas[p] > tas[i]:\n",
    "            print(\"inversion du noeud et de son parent\")\n",
    "            tas[i], tas[p] = tas[p], tas[i]\n",
    "            i = p\n",
    "            p = (i-1)//2\n",
    "            print(\"Etat du tas\",tas)\n",
    "        else:\n",
    "            print(\"Noeud bien placé, fin de la procédure\")\n",
    "            return\n",
    "tas  = [1,2,3,17,19,36,7,25,100]\n",
    "print(\"Exemple de l'ajout du noeud 14 au tas représenté au debut\")\n",
    "print()\n",
    "print(\"Etat initial du tas\", tas)\n",
    "ajouter(tas,14)\n",
    "print(\"Etat final du tas\",tas)"
   ]
  },
  {
   "cell_type": "markdown",
   "id": "315dff1d",
   "metadata": {},
   "source": [
    "##### II.A.5  \n",
    "Dans le pire cas, le noeud remonte de la dernière couche à la racine.  \n",
    "On réalise alors 1 ajout dans une liste en O(1)  \n",
    "Puis 1 comparaison et 1 inversion à chaque étape jusqu'à la racine  \n",
    "D'où un O(log n)"
   ]
  },
  {
   "cell_type": "code",
   "execution_count": 10,
   "id": "57d7e3cf",
   "metadata": {},
   "outputs": [
    {
     "name": "stdout",
     "output_type": "stream",
     "text": [
      "      20\n",
      "     /   \\\n",
      "    7      3\n",
      "   / \\    / \\\n",
      "  17  19 36  27\n",
      " /\n",
      "25\n",
      " \n",
      "comparaison 7 et 3 puis 20 et 3\n",
      " \n",
      "      3\n",
      "     /   \\\n",
      "    7     20\n",
      "   / \\    / \\\n",
      "  17  19 36  27\n",
      " /\n",
      "25\n",
      " \n",
      "comparaison 36 et 27 puis 20 et 27\n",
      "fin de l'algo\n"
     ]
    }
   ],
   "source": [
    "# II.A.6\n",
    "print(\"      20\")\n",
    "print(\"     /   \\\\\")\n",
    "print(\"    7      3\")\n",
    "print(\"   / \\\\    / \\\\\")\n",
    "print(\"  17  19 36  27\")\n",
    "print(\" /\")\n",
    "print(\"25\")\n",
    "print(\" \")\n",
    "print(\"comparaison 7 et 3 puis 20 et 3\")\n",
    "print(\" \")\n",
    "print(\"      3\")\n",
    "print(\"     /   \\\\\")\n",
    "print(\"    7     20\")\n",
    "print(\"   / \\\\    / \\\\\")\n",
    "print(\"  17  19 36  27\")\n",
    "print(\" /\")\n",
    "print(\"25\")\n",
    "print(\" \")\n",
    "print(\"comparaison 36 et 27 puis 20 et 27\")\n",
    "print(\"fin de l'algo\")"
   ]
  },
  {
   "cell_type": "code",
   "execution_count": 11,
   "id": "aef7fb84",
   "metadata": {},
   "outputs": [
    {
     "name": "stdout",
     "output_type": "stream",
     "text": [
      "[1, 7, 3, 17, 19, 36, 27, 25, 20]\n",
      "[20, 7, 3, 17, 19, 36, 27, 25]\n",
      "[3, 7, 20, 17, 19, 36, 27, 25]\n"
     ]
    }
   ],
   "source": [
    "# II.A.7\n",
    "tas = [1, 7, 3, 17, 19, 36, 27, 25, 20]\n",
    "print(tas)\n",
    "tas = [20,7,3,17,19,36,27,25]\n",
    "print(tas)\n",
    "tas = [3,7,20,17,19,36,27,25]\n",
    "print(tas)\n"
   ]
  },
  {
   "cell_type": "code",
   "execution_count": 12,
   "id": "ef78d2de",
   "metadata": {},
   "outputs": [
    {
     "name": "stdout",
     "output_type": "stream",
     "text": [
      "[2, 17, 3, 25, 19, 36, 7, 100]\n"
     ]
    }
   ],
   "source": [
    "# II.A.8\n",
    "def retirer(tas):\n",
    "    racine = tas[0]\n",
    "    tas[0] = tas.pop()\n",
    "    i = 0\n",
    "    while 1:\n",
    "        if len(tas) > 2*i+1:\n",
    "            g = 2*i+1\n",
    "        else:\n",
    "            g = None\n",
    "        if len(tas) > 2*i+2:\n",
    "            d = 2*i+2\n",
    "        else:\n",
    "            d = None\n",
    "        if g is None:\n",
    "            return racine\n",
    "        if tas[i] > tas[g] and (d is None or tas[i] > tas[d]):\n",
    "            if d is None or tas[g] < tas[d]:\n",
    "                tas[i],tas[g] = tas[g],tas[i]\n",
    "                i = g\n",
    "            else:\n",
    "                tas[i],tas[d] = tas[d],tas[i]\n",
    "                i = d\n",
    "        else:\n",
    "            return racine\n",
    "        \n",
    "\n",
    "l = [1,2,3,17,19,36,7,25,100]\n",
    "retirer(l)    \n",
    "print(l)\n",
    "\n",
    "# II.A.9\n",
    "# Ici aussi complexité en O(log n)"
   ]
  },
  {
   "cell_type": "code",
   "execution_count": 13,
   "id": "dda9c2b0",
   "metadata": {},
   "outputs": [
    {
     "name": "stdout",
     "output_type": "stream",
     "text": [
      "[1, 2, 3, 14, 19, 36, 7, 17, 100]\n",
      "[1, 2, 3, 25, 19, 36, 7, 42, 100]\n"
     ]
    }
   ],
   "source": [
    "# II.A.10\n",
    "def modifier(tas, ancienne, nouvelle):\n",
    "    assert ancienne in tas\n",
    "    \n",
    "    for i in range(len(tas)):\n",
    "        if tas[i] == ancienne:\n",
    "            tas[i] = nouvelle\n",
    "            if ancienne > nouvelle:\n",
    "                remonter(tas,i)\n",
    "            elif ancienne < nouvelle:\n",
    "                descendre(tas,i)\n",
    "            \n",
    "def remonter(tas, i):\n",
    "    if i == 0:\n",
    "        return\n",
    "    if tas[(i-1)//2] > tas[i]:\n",
    "        tas[i], tas[(i-1)//2] = tas[(i-1)//2], tas[i]\n",
    "        remonter(tas, (i-1)//2)\n",
    "    else:\n",
    "        return\n",
    "\n",
    "def descendre(tas, i):\n",
    "    if 2*i+2 >= len(tas):\n",
    "        if 2*i+1 >= len(tas):\n",
    "            return\n",
    "        else:\n",
    "            if tas[i] > tas[2*i+1]:\n",
    "                tas[i], tas[2*i+1] = tas[2*i+1], tas[i]\n",
    "                descendre(tas, 2*i+1)\n",
    "            else:\n",
    "                return\n",
    "    else:\n",
    "        if tas[2*i+1] < tas[2*i+2]:\n",
    "            if tas[2*i+1] < tas[i]:\n",
    "                tas[i], tas[2*i+1] = tas[2*i+1], tas[i]\n",
    "                descendre(tas, 2*i+1)\n",
    "            else:\n",
    "                return\n",
    "        else:\n",
    "            if tas[2*i+2] < tas[i]:\n",
    "                tas[i], tas[2*i+2] = tas[2*i+2], tas[i]\n",
    "                descendre(tas, 2*i+2)\n",
    "            else:\n",
    "                return            \n",
    "\n",
    "l = [1,2,3,17,19,36,7,25,100]\n",
    "modifier(l,25,14)    \n",
    "print(l)\n",
    "\n",
    "l = [1,2,3,17,19,36,7,25,100]\n",
    "modifier(l,17,42)    \n",
    "print(l)"
   ]
  },
  {
   "cell_type": "code",
   "execution_count": 17,
   "id": "15dde1bf",
   "metadata": {},
   "outputs": [
    {
     "name": "stdout",
     "output_type": "stream",
     "text": [
      "ajout de l'élément 14 à la fin\n",
      "Etat du tas [1, 2, 3, 17, 19, 36, 7, 25, 100, 14]\n",
      "comparaison de 14 avec son parent 19\n",
      "inversion du noeud et de son parent\n",
      "Etat du tas [1, 2, 3, 17, 14, 36, 7, 25, 100, 19]\n",
      "comparaison de 14 avec son parent 2\n",
      "Noeud bien placé, fin de la procédure\n",
      "[1, 2, 3, 17, 14, 36, 7, 25, 100, 19]\n",
      "True\n",
      "\n",
      "1\n",
      "[2, 17, 3, 25, 19, 36, 7, 100]\n",
      "True\n",
      " \n",
      "[1, 2, 3, 14, 19, 36, 7, 17, 100]\n",
      "True\n",
      " \n",
      "[1, 2, 3, 25, 19, 36, 7, 42, 100]\n",
      "True\n"
     ]
    }
   ],
   "source": [
    "# II.A.11\n",
    "tas  = [1,2,3,17,19,36,7,25,100]\n",
    "ajouter(tas,14)\n",
    "print(tas)\n",
    "print(tas == [1,2,3,17,14,36,7,25,100,19])\n",
    "assert tas == [1,2,3,17,14,36,7,25,100,19]\n",
    "print(\"\")\n",
    "l = [1,2,3,17,19,36,7,25,100]\n",
    "print(retirer(l))    \n",
    "print(l)\n",
    "print(l == [2,17,3,25,19,36,7,100])\n",
    "assert l == [2,17,3,25,19,36,7,100]\n",
    "print(\" \")\n",
    "\n",
    "l = [1,2,3,17,19,36,7,25,100]\n",
    "modifier(l,25,14)    \n",
    "print(l)\n",
    "print(l == [1,2,3,14,19,36,7,17,100])\n",
    "assert l == [1,2,3,14,19,36,7,17,100]\n",
    "print(\" \")\n",
    "l = [1,2,3,17,19,36,7,25,100]\n",
    "modifier(l,17,42)    \n",
    "print(l)\n",
    "print(l == [1,2,3,25,19,36,7,42,100])\n",
    "assert l == [1,2,3,25,19,36,7,42,100]\n",
    "\n",
    "# Dans la copie utiliser les assertions !\n"
   ]
  },
  {
   "cell_type": "code",
   "execution_count": 28,
   "id": "3b7f545a",
   "metadata": {},
   "outputs": [
    {
     "name": "stdout",
     "output_type": "stream",
     "text": [
      "ajouter\n",
      "Etat initial du tas [(1, 'A'), (2, 'B'), (3, 'C'), (17, 'D'), (19, 'E'), (36, 'F'), (7, 'G'), (25, 'H'), (100, 'I')]\n",
      "Etat final du tas [(1, 'A'), (2, 'B'), (3, 'C'), (17, 'D'), (14, 'J'), (36, 'F'), (7, 'G'), (25, 'H'), (100, 'I'), (19, 'E')]\n",
      "\n",
      "retirer\n",
      "Etat initial du tas [(1, 'A'), (2, 'B'), (3, 'C'), (17, 'D'), (19, 'E'), (36, 'F'), (7, 'G'), (25, 'H'), (100, 'I')]\n",
      "(1, 'A')\n",
      "Etat final du tas [(2, 'B'), (17, 'D'), (3, 'C'), (25, 'H'), (19, 'E'), (36, 'F'), (7, 'G'), (100, 'I')]\n",
      "\n",
      "modifier\n",
      "Etat initial du tas [(1, 'A'), (2, 'B'), (3, 'C'), (17, 'D'), (19, 'E'), (36, 'F'), (7, 'G'), (25, 'H'), (100, 'I')]\n",
      "Etat final du tas [(1, 'A'), (2, 'B'), (3, 'C'), (14, 'H'), (19, 'E'), (36, 'F'), (7, 'G'), (17, 'D'), (100, 'I')]\n",
      "\n",
      "modifier\n",
      "Etat initial du tas [(1, 'A'), (2, 'B'), (3, 'C'), (17, 'D'), (19, 'E'), (36, 'F'), (7, 'G'), (25, 'H'), (100, 'I')]\n",
      "Etat final du tas [(1, 'A'), (2, 'B'), (3, 'C'), (25, 'H'), (19, 'E'), (36, 'F'), (7, 'G'), (42, 'D'), (100, 'I')]\n",
      "\n"
     ]
    }
   ],
   "source": [
    "# II.A.12\n",
    "def ajouter(tas,element):\n",
    "    tas.append(element)\n",
    "    \n",
    "    i = len(tas) - 1\n",
    "    p = (i-1)//2\n",
    "    while p >= 0:\n",
    "        if tas[p][0] > tas[i][0]: # modification de la fonction\n",
    "            tas[i], tas[p] = tas[p], tas[i]\n",
    "            i = p\n",
    "            p = (i-1)//2\n",
    "        else:\n",
    "            return\n",
    "print(\"ajouter\")\n",
    "tas  = [(1,\"A\"),(2,\"B\"),(3,\"C\"),(17,\"D\"),(19,\"E\"),(36,\"F\"),(7,\"G\"),(25,\"H\"),(100,\"I\")]\n",
    "print(\"Etat initial du tas\", tas)\n",
    "ajouter(tas,(14,\"J\"))\n",
    "print(\"Etat final du tas\",tas)\n",
    "print(\"\")\n",
    "\n",
    "def retirer(tas):\n",
    "    racine = tas[0]\n",
    "    tas[0] = tas.pop()\n",
    "    i = 0\n",
    "    while 1:\n",
    "        if len(tas) > 2*i+1:\n",
    "            g = 2*i+1\n",
    "        else:\n",
    "            g = None\n",
    "        if len(tas) > 2*i+2:\n",
    "            d = 2*i+2\n",
    "        else:\n",
    "            d = None\n",
    "        if g is None:\n",
    "            return racine\n",
    "        if tas[i][0] > tas[g][0] and (d is None or tas[i][0] > tas[d][0]):\n",
    "            if d is None or tas[g][0] < tas[d][0]:\n",
    "                tas[i],tas[g] = tas[g],tas[i]\n",
    "                i = g\n",
    "            else:\n",
    "                tas[i],tas[d] = tas[d],tas[i]\n",
    "                i = d\n",
    "        else:\n",
    "            return racine\n",
    "        \n",
    "\n",
    "print(\"retirer\")\n",
    "tas  = [(1,\"A\"),(2,\"B\"),(3,\"C\"),(17,\"D\"),(19,\"E\"),(36,\"F\"),(7,\"G\"),(25,\"H\"),(100,\"I\")]\n",
    "print(\"Etat initial du tas\", tas)\n",
    "print(retirer(tas))\n",
    "print(\"Etat final du tas\",tas)\n",
    "print(\"\")\n",
    "\n",
    "\n",
    "def modifier(tas, sommet, nouvelle):\n",
    "    assert sommet in [val[1] for val in tas]\n",
    "    \n",
    "    for i in range(len(tas)):\n",
    "        if tas[i][1] == sommet:\n",
    "            ancienne = tas[i][0]\n",
    "            tas[i] = (nouvelle,sommet)\n",
    "            if ancienne > nouvelle:\n",
    "                remonter(tas,i)\n",
    "            elif ancienne < nouvelle:\n",
    "                descendre(tas,i)\n",
    "            \n",
    "def remonter(tas, i):\n",
    "    if i == 0:\n",
    "        return\n",
    "    if tas[(i-1)//2][0] > tas[i][0]:\n",
    "        tas[i], tas[(i-1)//2] = tas[(i-1)//2], tas[i]\n",
    "        remonter(tas, (i-1)//2)\n",
    "    else:\n",
    "        return\n",
    "\n",
    "def descendre(tas, i):\n",
    "    if 2*i+2 >= len(tas):\n",
    "        if 2*i+1 >= len(tas):\n",
    "            return\n",
    "        else:\n",
    "            if tas[i][0] > tas[2*i+1][0]:\n",
    "                tas[i], tas[2*i+1] = tas[2*i+1], tas[i]\n",
    "                descendre(tas, 2*i+1)\n",
    "            else:\n",
    "                return\n",
    "    else:\n",
    "        if tas[2*i+1][0] < tas[2*i+2][0]:\n",
    "            if tas[2*i+1][0] < tas[i][0]:\n",
    "                tas[i], tas[2*i+1] = tas[2*i+1], tas[i]\n",
    "                descendre(tas, 2*i+1)\n",
    "            else:\n",
    "                return\n",
    "        else:\n",
    "            if tas[2*i+2][0] < tas[i][0]:\n",
    "                tas[i], tas[2*i+2] = tas[2*i+2], tas[i]\n",
    "                descendre(tas, 2*i+2)\n",
    "            else:\n",
    "                return            \n",
    "\n",
    "\n",
    "print(\"modifier\")\n",
    "tas  = [(1,\"A\"),(2,\"B\"),(3,\"C\"),(17,\"D\"),(19,\"E\"),(36,\"F\"),(7,\"G\"),(25,\"H\"),(100,\"I\")]\n",
    "print(\"Etat initial du tas\", tas)\n",
    "modifier(tas,'H',14)\n",
    "print(\"Etat final du tas\",tas)\n",
    "print(\"\")\n",
    "\n",
    "print(\"modifier\")\n",
    "tas  = [(1,\"A\"),(2,\"B\"),(3,\"C\"),(17,\"D\"),(19,\"E\"),(36,\"F\"),(7,\"G\"),(25,\"H\"),(100,\"I\")]\n",
    "print(\"Etat initial du tas\", tas)\n",
    "modifier(tas,'D',42)\n",
    "print(\"Etat final du tas\",tas)\n",
    "print(\"\")\n",
    "\n",
    "\n"
   ]
  },
  {
   "cell_type": "code",
   "execution_count": 5,
   "id": "40c613b4",
   "metadata": {},
   "outputs": [],
   "source": [
    "# II.B.1\n",
    "l = [\"A\",\"B\",\"C\",\"D\",\"E\"]\n",
    "# Matrice d'adjacence:\n",
    "m1 = [[0,1,1,0,0],\n",
    "    [0,0,1,1,1],\n",
    "    [0,0,0,1,0],\n",
    "    [0,0,0,0,0],\n",
    "    [0,0,0,0,0]]\n",
    "# En utilisant les poids du graphe\n",
    "m = [[0,10,12,0,0],\n",
    "    [0,0,14,11,15],\n",
    "    [0,0,0,20,0],\n",
    "    [0,0,0,0,0],\n",
    "    [0,0,0,0,0]]\n",
    "\n",
    "# II.B.2\n",
    "m1 = [[0,1,1,0,0],\n",
    "    [1,0,1,1,1],\n",
    "    [1,1,0,1,0],\n",
    "    [0,1,1,0,0],\n",
    "    [0,1,0,0,0]]\n",
    "# avec les poids\n",
    "m = [[0,10,12,0,0],\n",
    "    [10,0,14,11,15],\n",
    "    [12,14,0,20,0],\n",
    "    [0,11,20,0,0],\n",
    "    [0,15,0,0,0]]"
   ]
  },
  {
   "cell_type": "code",
   "execution_count": 6,
   "id": "10809822",
   "metadata": {},
   "outputs": [
    {
     "data": {
      "text/plain": [
       "[(0.0, 'A'), (inf, 'B'), (inf, 'C'), (inf, 'D'), (inf, 'E')]"
      ]
     },
     "execution_count": 6,
     "metadata": {},
     "output_type": "execute_result"
    }
   ],
   "source": [
    "# II.B.3\n",
    "def initTas(l,s):\n",
    "    tas = [(0.,s)]\n",
    "    for sommet in l:\n",
    "        if sommet != s:\n",
    "            tas.append((float('inf'),sommet))\n",
    "    return tas\n",
    "\n",
    "initTas(l,\"A\")\n",
    "    "
   ]
  },
  {
   "cell_type": "code",
   "execution_count": 8,
   "id": "eb8ec612",
   "metadata": {},
   "outputs": [
    {
     "data": {
      "text/plain": [
       "{'A': None, 'B': None, 'C': None, 'D': None, 'E': None}"
      ]
     },
     "execution_count": 8,
     "metadata": {},
     "output_type": "execute_result"
    }
   ],
   "source": [
    "# II.B.4\n",
    "def initPrecedent(l):\n",
    "    d = {}\n",
    "    for s in l:\n",
    "        d[s] = None\n",
    "    return d\n",
    "\n",
    "initPrecedent(l)"
   ]
  },
  {
   "cell_type": "code",
   "execution_count": 10,
   "id": "bbc8df2b",
   "metadata": {},
   "outputs": [
    {
     "data": {
      "text/plain": [
       "['A', 'B', 'F', 'I']"
      ]
     },
     "execution_count": 10,
     "metadata": {},
     "output_type": "execute_result"
    }
   ],
   "source": [
    "# II.B.5\n",
    "def chemin(precedent,d,a): \n",
    "    l = []\n",
    "    prec = a\n",
    "    while prec != d:\n",
    "        l = [prec] + l\n",
    "        prec = precedent[prec]\n",
    "    l = [d] + l\n",
    "    return l\n",
    "\n",
    "d = {'A':None, 'B':'A', 'C':'A', 'D':'H', 'E':'A', 'F':'B', 'G':'C', 'H':'C', 'I':'F', 'J':'I'}\n",
    "chemin(d, \"A\", \"I\")"
   ]
  },
  {
   "cell_type": "code",
   "execution_count": 31,
   "id": "b19846fd",
   "metadata": {},
   "outputs": [
    {
     "name": "stdout",
     "output_type": "stream",
     "text": [
      "A\n",
      "{'A': 0.0, 'B': 85.0, 'C': 217.0, 'D': inf, 'E': 173.0, 'F': inf, 'G': inf, 'H': inf, 'I': inf, 'J': inf}\n",
      "{'A': None, 'B': 'A', 'C': 'A', 'D': None, 'E': 'A', 'F': None, 'G': None, 'H': None, 'I': None, 'J': None}\n",
      "\n",
      "B\n",
      "{'A': 0.0, 'B': 85.0, 'C': 217.0, 'D': inf, 'E': 173.0, 'F': 165.0, 'G': inf, 'H': inf, 'I': inf, 'J': inf}\n",
      "{'A': None, 'B': 'A', 'C': 'A', 'D': None, 'E': 'A', 'F': 'B', 'G': None, 'H': None, 'I': None, 'J': None}\n",
      "\n",
      "F\n",
      "{'A': 0.0, 'B': 85.0, 'C': 217.0, 'D': inf, 'E': 173.0, 'F': 165.0, 'G': inf, 'H': inf, 'I': 415.0, 'J': inf}\n",
      "{'A': None, 'B': 'A', 'C': 'A', 'D': None, 'E': 'A', 'F': 'B', 'G': None, 'H': None, 'I': 'F', 'J': None}\n",
      "\n"
     ]
    },
    {
     "data": {
      "text/plain": [
       "(['A', 'B', 'F', 'I'], 415.0)"
      ]
     },
     "execution_count": 31,
     "metadata": {},
     "output_type": "execute_result"
    }
   ],
   "source": [
    "# II.B.6\n",
    "def initDistance(l,s):\n",
    "    d = {}\n",
    "    for sommet in l:\n",
    "        if sommet != s:\n",
    "            d[sommet] = float('inf')\n",
    "        else:\n",
    "            d[s] = 0.0\n",
    "    return d\n",
    "    \n",
    "def dijkstra(m,l,d,a):\n",
    "    tas = initTas(l,d)\n",
    "    prec = initPrecedent(l)\n",
    "    dist = initDistance(l,d)\n",
    "    distance,s = retirer(tas)\n",
    "    while s != a:\n",
    "        j = l.index(s)\n",
    "        for i in range(len(m[j])):\n",
    "            if m[j][i] > 0:\n",
    "                if distance + m[j][i] < dist[l[i]]:\n",
    "                    modifier(tas,l[i],distance + m[j][i])\n",
    "                    dist[l[i]] = distance + m[j][i]\n",
    "                    prec[l[i]] = s\n",
    "        print(s)\n",
    "        print(dist)\n",
    "        print(prec)\n",
    "        print(\"\")\n",
    "        distance,s = retirer(tas)\n",
    "    return chemin(prec,d,a), distance\n",
    "\n",
    "m = [[0,85,217,0,173,0,0,0,0,0],\n",
    "    [85,0,0,0,0,80,0,0,0,0],\n",
    "    [217,0,0,0,0,0,186,103,0,0],\n",
    "    [0,0,0,0,0,0,0,183,0,0],\n",
    "    [173,0,0,0,0,0,0,0,0,502],\n",
    "    [0,80,0,0,0,0,0,0,250,0],\n",
    "    [0,0,186,0,0,0,0,0,0,0],\n",
    "    [0,0,103,183,0,0,0,0,0,167],\n",
    "    [0,0,0,0,0,250,0,0,0,84],\n",
    "    [0,0,0,0,502,0,0,167,84,0]]\n",
    "\n",
    "l = [\"A\",\"B\",\"C\",\"D\",\"E\",\"F\",\"G\",\"H\",\"I\",\"J\"]\n",
    "dijkstra(m,l,\"A\",\"I\")"
   ]
  }
 ],
 "metadata": {
  "kernelspec": {
   "display_name": "Python 3 (ipykernel)",
   "language": "python",
   "name": "python3"
  },
  "language_info": {
   "codemirror_mode": {
    "name": "ipython",
    "version": 3
   },
   "file_extension": ".py",
   "mimetype": "text/x-python",
   "name": "python",
   "nbconvert_exporter": "python",
   "pygments_lexer": "ipython3",
   "version": "3.11.2"
  }
 },
 "nbformat": 4,
 "nbformat_minor": 5
}
